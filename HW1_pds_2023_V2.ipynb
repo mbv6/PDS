{
 "cells": [
  {
   "cell_type": "markdown",
   "metadata": {},
   "source": [
    "# <span style=\"color:brown\"> Start Here </span> \n",
    "\n",
    "[Please Complete the following form with your details]\n",
    "\n",
    "Student Name - Michelle Buston Vega<br>\n",
    "Student id - 20230590 <br>\n",
    "Contact e-mail - m.bustonvega@gmail.com <br>\n",
    "\n",
    "\n",
    "Student Name - Mateus Baptista Amaral <br>\n",
    "Student id - 20230595 <br>\n",
    "Contact e-mail - mbaptistaamaral@gmail.com <br>"
   ]
  },
  {
   "cell_type": "markdown",
   "metadata": {},
   "source": [
    "# <span style=\"color:brown\"> Part 1 -  Variable Declaration and Manipulation </span> \n",
    "\n",
    "## Exercise I - of Lists and Random numbers\n",
    "\n",
    "**1**: Declare a variable X that stores a list of 100 integers randomly sampled between -100 and 100.<br>\n",
    "Note: You are not allowed to use third party libraries -- such as Numpy, Pandas, or Scipy -- in this exercise."
   ]
  },
  {
   "cell_type": "code",
   "execution_count": 2,
   "metadata": {},
   "outputs": [
    {
     "name": "stdout",
     "output_type": "stream",
     "text": [
      "[94, 64, 61, 59, 95, 62, 87, 86, 38, 38, 83, 22, 25, 66, 55, 36, 11, 9, 32, 47, 8, 24, 3, 28, 90, 18, 31, 40, 6, 48, 68, 26, 87, 66, 53, 76, 90, 35, 5, 39, 61, 33, 20, 96, 100, 17, 92, 67, 9, 11, 18, 97, 30, 8, 69, 48, 93, 0, 13, 8, 35, 48, 7, 25, 42, 78, 9, 81, 21, 27, 44, 85, 87, 36, 81, 99, 20, 43, 79, 43, 39, 33, 98, 20, 16, 61, 26, 52, 65, 36, 34, 92, 88, 52, 23, 15, 48, 23, 74, 85]\n"
     ]
    }
   ],
   "source": [
    "import random\n",
    "X = random.choices(range(101), k=100)\n",
    "print(X)"
   ]
  },
  {
   "cell_type": "markdown",
   "metadata": {},
   "source": [
    "**2**: How many odd numbers are in the list X?\n"
   ]
  },
  {
   "cell_type": "code",
   "execution_count": 3,
   "metadata": {},
   "outputs": [
    {
     "name": "stdout",
     "output_type": "stream",
     "text": [
      "Number of odd numbers:  49\n",
      "Number of even numbers:  51\n"
     ]
    }
   ],
   "source": [
    "odd_numbers = 0\n",
    "even_numbers = 0\n",
    "\n",
    "for i in X:\n",
    "    \n",
    "    if i%2 !=0:\n",
    "        odd_numbers +=1\n",
    "    else:\n",
    "        even_numbers +=1\n",
    "        \n",
    "print(\"Number of odd numbers: \", odd_numbers)\n",
    "print(\"Number of even numbers: \", even_numbers)"
   ]
  },
  {
   "cell_type": "markdown",
   "metadata": {},
   "source": [
    "**2.1** Check if there are as many even numbers as there are odd numbers, else discard the list and generate a new one."
   ]
  },
  {
   "cell_type": "code",
   "execution_count": 4,
   "metadata": {},
   "outputs": [
    {
     "name": "stdout",
     "output_type": "stream",
     "text": [
      "[98, 34, 32, 22, 21, 66, 95, 69, 3, 62, 34, 99, 49, 50, 61, 7, 90, 23, 43, 10, 56, 92, 43, 9, 45, 34, 85, 1, 47, 21, 54, 95, 97, 11, 97, 85, 37, 30, 100, 62, 37, 36, 30, 89, 48, 68, 36, 67, 70, 18, 19, 57, 46, 80, 84, 9, 50, 41, 1, 23, 70, 94, 56, 85, 13, 43, 33, 95, 21, 56, 19, 52, 17, 41, 54, 20, 34, 48, 46, 29, 63, 99, 3, 45, 62, 23, 3, 76, 28, 10, 18, 64, 69, 82, 20, 39, 7, 52, 92, 11]\n"
     ]
    }
   ],
   "source": [
    "if odd_numbers!=even_numbers:\n",
    "    X = random.choices(range(101), k=100)\n",
    "    print(X) #just printing if there is a new list"
   ]
  },
  {
   "cell_type": "markdown",
   "metadata": {},
   "source": [
    "**2.2** Create a pipeline to automatically perform the tasks above such that you avoid having to run the cells multiple times to reach the desired outcome."
   ]
  },
  {
   "cell_type": "code",
   "execution_count": 5,
   "metadata": {},
   "outputs": [
    {
     "name": "stdout",
     "output_type": "stream",
     "text": [
      "Odd Numbers: 50\n",
      "Even Numbers: 50\n",
      "Numbers of iterations: 11 \n",
      "\n",
      "New List: [92, 49, 97, 93, 48, 32, 15, 67, 55, 4, 8, 53, 49, 22, 37, 98, 79, 47, 48, 1, 46, 52, 34, 46, 20, 89, 82, 29, 95, 13, 46, 11, 49, 14, 71, 85, 78, 13, 97, 20, 34, 83, 8, 93, 90, 88, 3, 71, 40, 99, 22, 48, 94, 13, 78, 75, 5, 4, 35, 2, 73, 90, 20, 96, 55, 51, 55, 25, 70, 15, 26, 2, 85, 15, 95, 90, 37, 11, 17, 63, 56, 56, 54, 81, 2, 89, 86, 17, 2, 14, 46, 89, 60, 2, 38, 87, 14, 92, 40, 9]\n"
     ]
    }
   ],
   "source": [
    "#loop to generate a new list until there are as many even numbers as there are odd numbers\n",
    "def get_balanced_list(size=100):\n",
    "    # Check if the size is even\n",
    "    if size%2 != 0:\n",
    "        return \"Size must be even\"\n",
    "    number_iterations = 0 \n",
    "    while True:\n",
    "        odd_numbers = 0\n",
    "        even_numbers = 0 #reset to 0 to have the correct sum \n",
    "        X = random.choices(range(101), k=size)\n",
    "        number_iterations += 1\n",
    "        \n",
    "        #inner loop\n",
    "        for i in X:\n",
    "            if i%2 !=0:\n",
    "                odd_numbers +=1\n",
    "            else:\n",
    "                even_numbers +=1\n",
    "        if odd_numbers == even_numbers:\n",
    "            break\n",
    "\n",
    "    return X, number_iterations, odd_numbers, even_numbers\n",
    "X, number_iterations, odd_numbers, even_numbers = get_balanced_list()    \n",
    "\n",
    "print (\"Odd Numbers:\",odd_numbers)\n",
    "print (\"Even Numbers:\",even_numbers) #always 50 after loop\n",
    "print (\"Numbers of iterations:\" ,number_iterations,\"\\n\")\n",
    "print(\"New List:\",X)"
   ]
  },
  {
   "cell_type": "markdown",
   "metadata": {},
   "source": [
    "**3**: Print the number of digits that the 5th and 100th element of the list have. <br>\n",
    "*Note: For instance, the number 1 contains one digit, the number 10 contains two digits, the number -2 contains one digit.*"
   ]
  },
  {
   "cell_type": "code",
   "execution_count": 6,
   "metadata": {},
   "outputs": [
    {
     "name": "stdout",
     "output_type": "stream",
     "text": [
      "48 has 2 digits\n",
      "9 has 1 digit\n"
     ]
    }
   ],
   "source": [
    "#checking if it works for negative numbers\n",
    "a = [X[4], X[99]]\n",
    "\n",
    "for number in a:\n",
    "    length = len(str(number))\n",
    "    if number < 0:\n",
    "        print(number, \"has\", length-1, f\"digit{'s' if length-1 > 1 else ''}\")\n",
    "    else:\n",
    "        print(number, \"has\", length, f\"digit{'s' if length > 1 else ''}\")"
   ]
  },
  {
   "cell_type": "markdown",
   "metadata": {},
   "source": [
    "**4**: Is the sum total of all the numbers in the list even or odd?"
   ]
  },
  {
   "cell_type": "code",
   "execution_count": 7,
   "metadata": {},
   "outputs": [
    {
     "name": "stdout",
     "output_type": "stream",
     "text": [
      "[83, 43, 65, 81, 16, 4, 42, 42, 1, 11, 88, 11, 3, 94, 35, 90, 59, 18, 25, 31, 65, 10, 74, 32, 1, 44, 10, 71, 24, 67, 45, 5, 27, 10, 50, 43, 72, 8, 54, 34, 10, 85, 39, 78, 5, 79, 38, 14, 41, 81, 87, 13, 65, 9, 13, 0, 8, 79, 56, 54, 1, 24, 40, 39, 19, 76, 68, 33, 57, 24, 69, 71, 57, 6, 34, 46, 33, 44, 62, 88, 62, 9, 92, 59, 46, 1, 65, 25, 89, 16, 6, 83, 92, 74, 50, 80, 24, 86, 14, 73]\n",
      "The sum of all numbers in the List X is 4379 and it's odd!\n"
     ]
    }
   ],
   "source": [
    "# If there is perfect balance in the list between odd and even numbers, the sum will always be odd\n",
    "X = random.choices(range(101), k=100)\n",
    "print(X)\n",
    "sum = 0\n",
    "\n",
    "for i in X:\n",
    "    sum += i\n",
    "if sum %2 == 0:\n",
    "    print(\"The sum of all numbers in the List X is\",sum, \"and it's even!\")\n",
    "else:\n",
    "    print(\"The sum of all numbers in the List X is\",sum, \"and it's odd!\")\n",
    "    "
   ]
  },
  {
   "cell_type": "markdown",
   "metadata": {},
   "source": [
    "**5**: What is the average of the list X?"
   ]
  },
  {
   "cell_type": "code",
   "execution_count": 8,
   "metadata": {},
   "outputs": [
    {
     "name": "stdout",
     "output_type": "stream",
     "text": [
      "The sum of the list Y is 4379 and the average is 43.79\n"
     ]
    }
   ],
   "source": [
    "avg = sum/len(X)\n",
    "print(\"The sum of the list Y is\", sum, \"and the average is\", avg)"
   ]
  },
  {
   "cell_type": "markdown",
   "metadata": {},
   "source": [
    "**5.1.** What is the population standard deviation? <br>"
   ]
  },
  {
   "cell_type": "code",
   "execution_count": 9,
   "metadata": {},
   "outputs": [
    {
     "name": "stdout",
     "output_type": "stream",
     "text": [
      "28.79246255532861\n"
     ]
    }
   ],
   "source": [
    "# Using the formula for standard deviation\n",
    "sd_ = [(i-avg)**2 for i in X]\n",
    "sd = 0\n",
    "# Iterating over the list of squared differences to sum them up\n",
    "for i in sd_:\n",
    "    sd += i\n",
    "sd = (sd/len(X))**0.5\n",
    "print(sd)"
   ]
  },
  {
   "cell_type": "markdown",
   "metadata": {},
   "source": [
    "**6**: Sort list X in descending order and store the result in variable Xsort. <br>"
   ]
  },
  {
   "cell_type": "code",
   "execution_count": 10,
   "metadata": {},
   "outputs": [
    {
     "name": "stdout",
     "output_type": "stream",
     "text": [
      "[94, 92, 92, 90, 89, 88, 88, 87, 86, 85, 83, 83, 81, 81, 80, 79, 79, 78, 76, 74, 74, 73, 72, 71, 71, 69, 68, 67, 65, 65, 65, 65, 62, 62, 59, 59, 57, 57, 56, 54, 54, 50, 50, 46, 46, 45, 44, 44, 43, 43, 42, 42, 41, 40, 39, 39, 38, 35, 34, 34, 33, 33, 32, 31, 27, 25, 25, 24, 24, 24, 24, 19, 18, 16, 16, 14, 14, 13, 13, 11, 11, 10, 10, 10, 10, 9, 9, 8, 8, 6, 6, 5, 5, 4, 3, 1, 1, 1, 1, 0]\n"
     ]
    }
   ],
   "source": [
    "Xsort = sorted(X, reverse=True)\n",
    "print(Xsort)"
   ]
  },
  {
   "cell_type": "code",
   "execution_count": 11,
   "metadata": {},
   "outputs": [
    {
     "name": "stdout",
     "output_type": "stream",
     "text": [
      "[94, 92, 92, 90, 89, 88, 88, 87, 86, 85, 83, 83, 81, 81, 80, 79, 79, 78, 76, 74, 74, 73, 72, 71, 71, 69, 68, 67, 65, 65, 65, 65, 62, 62, 59, 59, 57, 57, 56, 54, 54, 50, 50, 46, 46, 45, 44, 44, 43, 43, 42, 42, 41, 40, 39, 39, 38, 35, 34, 34, 33, 33, 32, 31, 27, 25, 25, 24, 24, 24, 24, 19, 18, 16, 16, 14, 14, 13, 13, 11, 11, 10, 10, 10, 10, 9, 9, 8, 8, 6, 6, 5, 5, 4, 3, 1, 1, 1, 1, 0]\n"
     ]
    }
   ],
   "source": [
    "# If sorted can't be used, then create a function that sorts the list\n",
    "Xsort = []\n",
    "for number in X:\n",
    "    if len(Xsort) == 0:\n",
    "        Xsort.append(number)\n",
    "    else:\n",
    "        for i in range(len(Xsort)):\n",
    "            if number > Xsort[i]:\n",
    "                Xsort.insert(i, number)\n",
    "                break\n",
    "            elif i == len(Xsort)-1:\n",
    "                Xsort.append(number)\n",
    "                break\n",
    "print(Xsort)"
   ]
  },
  {
   "cell_type": "markdown",
   "metadata": {},
   "source": [
    "**6.1** Then replace each value in Xsort with index i as the sum of the values with index i-1 and i. <br> \n",
    "\n",
    "*Note: Consider that Xsort[-1] = 0.*"
   ]
  },
  {
   "cell_type": "code",
   "execution_count": 12,
   "metadata": {},
   "outputs": [
    {
     "name": "stdout",
     "output_type": "stream",
     "text": [
      "[94, 186, 184, 182, 179, 177, 176, 175, 173, 171, 168, 166, 164, 162, 161, 159, 158, 157, 154, 150, 148, 147, 145, 143, 142, 140, 137, 135, 132, 130, 130, 130, 127, 124, 121, 118, 116, 114, 113, 110, 108, 104, 100, 96, 92, 91, 89, 88, 87, 86, 85, 84, 83, 81, 79, 78, 77, 73, 69, 68, 67, 66, 65, 63, 58, 52, 50, 49, 48, 48, 48, 43, 37, 34, 32, 30, 28, 27, 26, 24, 22, 21, 20, 20, 20, 19, 18, 17, 16, 14, 12, 11, 10, 9, 7, 4, 2, 2, 2, 1]\n"
     ]
    }
   ],
   "source": [
    "new_Xsort = [0 for i in range(len(Xsort))]\n",
    "new_Xsort[0] = Xsort[0]\n",
    "for i in range(len(Xsort)-1):\n",
    "    new_Xsort[i+1] = Xsort[i+1] + Xsort[i]\n",
    "print(new_Xsort)"
   ]
  },
  {
   "cell_type": "markdown",
   "metadata": {},
   "source": [
    "## Exercise II - we have a gamer in the room\n",
    "\n",
    "**7**: Consider the dictionaries  *purchases* and *clients* that are declared in the cell below. <br>\n",
    "Create a list with the names of the clients who bought more than one videogame. Print the List. <br>"
   ]
  },
  {
   "cell_type": "code",
   "execution_count": 435,
   "metadata": {},
   "outputs": [],
   "source": [
    "purchases = {\n",
    "    \n",
    "    \"1539\":\"Red dead redemption II\",\n",
    "    \"9843\":\"GTA V,FarCry 5, watchdogs II\",\n",
    "    \"8472\":\"Canis Canem Edit\",\n",
    "    \"3874\":\"Watchdogs II,South Park: The Stick of Truth\",\n",
    "    \"5783\":\"AC: The Ezio Collection, watchdogs ii\",\n",
    "    \"9823\":\"For Honor,The Forest,South Park: The Fractured but whole\"\n",
    "    \n",
    "}"
   ]
  },
  {
   "cell_type": "code",
   "execution_count": 436,
   "metadata": {},
   "outputs": [],
   "source": [
    "clients = { \n",
    "    \"1539\":\"Rick Sanchez\",\n",
    "    \"9843\":\"Morty Smith\",\n",
    "    \"8472\":\"Eve Polastri\",\n",
    "    \"3874\":\"Mildred Ratched\",\n",
    "    \"5783\":\"Alex Vause\",\n",
    "    \"9823\":\"Sheldon Cooper\" \n",
    "}"
   ]
  },
  {
   "cell_type": "code",
   "execution_count": 449,
   "metadata": {},
   "outputs": [
    {
     "name": "stdout",
     "output_type": "stream",
     "text": [
      "{'Rick Sanchez': 1, 'Morty Smith': 3, 'Eve Polastri': 1, 'Mildred Ratched': 2, 'Alex Vause': 2, 'Sheldon Cooper': 3}\n"
     ]
    }
   ],
   "source": [
    "num_games = {}\n",
    "for purchase in purchases.items():\n",
    "    customer = purchase[0]\n",
    "    # Map the customer to the name\n",
    "    customer_name = clients[customer]\n",
    "    games = purchase[1].split(\",\")\n",
    "    num_games[customer_name] = len(games)\n",
    "print(num_games)"
   ]
  },
  {
   "cell_type": "code",
   "execution_count": 471,
   "metadata": {},
   "outputs": [
    {
     "name": "stdout",
     "output_type": "stream",
     "text": [
      "{'red dead redemption ii': 1, 'gta v': 1, 'farcry 5': 1, 'watchdogs ii': 3, 'canis canem edit': 1, 'south park: the stick of truth': 1, 'ac: the ezio collection': 1, 'for honor': 1, 'the forest': 1, 'south park: the fractured but whole': 1}\n"
     ]
    }
   ],
   "source": [
    "# Lets first create a dictonnary with the games as keys and the amount of times they were bought as values\n",
    "games = {}\n",
    "for key, value in purchases.items():\n",
    "    for game in value.split(\",\"):\n",
    "        # Ignore capitalization\n",
    "        game = game.lower()\n",
    "        # Remove spaces\n",
    "        game = game.strip()\n",
    "        # If the game is already in the dictionary, append the client\n",
    "        if game in games:\n",
    "            games[game] += 1\n",
    "        # Else, create a new entry\n",
    "        else:\n",
    "            games[game] = 1\n",
    "print(games)"
   ]
  },
  {
   "cell_type": "code",
   "execution_count": 472,
   "metadata": {},
   "outputs": [
    {
     "name": "stdout",
     "output_type": "stream",
     "text": [
      "Customers who bought more than one game: Morty Smith, Mildred Ratched, Alex Vause, Sheldon Cooper\n"
     ]
    }
   ],
   "source": [
    "bought_more_than_one = []\n",
    "for key, value in num_games.items():\n",
    "    if value > 1:\n",
    "        bought_more_than_one.append(key)\n",
    "# Join the list into a string\n",
    "print('Customers who bought more than one game:', ', '.join(bought_more_than_one))"
   ]
  },
  {
   "cell_type": "markdown",
   "metadata": {},
   "source": [
    "**7.1** What is the name of the client that bought more videogames?\n",
    "\n",
    "*Tip: You will want to check the methods associated with string manipulation. See the link: <br>\n",
    "https://python-reference.readthedocs.io/en/latest/docs/unicode/index.html*"
   ]
  },
  {
   "cell_type": "code",
   "execution_count": 473,
   "metadata": {},
   "outputs": [
    {
     "name": "stdout",
     "output_type": "stream",
     "text": [
      "Best customers: Morty Smith, Sheldon Cooper\n"
     ]
    }
   ],
   "source": [
    "best_customer = []\n",
    "for key, value in num_games.items():\n",
    "    if value == max(num_games.values()):\n",
    "        best_customer.append(key)\n",
    "\n",
    "print(f\"Best customer{'s' if len(best_customer)>1 else ''}: {', '.join(best_customer)}\")"
   ]
  },
  {
   "cell_type": "markdown",
   "metadata": {},
   "source": [
    "**7.2** What is the name of the most popular videogame?"
   ]
  },
  {
   "cell_type": "code",
   "execution_count": 476,
   "metadata": {},
   "outputs": [
    {
     "name": "stdout",
     "output_type": "stream",
     "text": [
      "Most popular game: watchdogs ii\n"
     ]
    }
   ],
   "source": [
    "most_popular_game = []\n",
    "for key, value in games.items():\n",
    "    if value == max(games.values()):\n",
    "        most_popular_game.append(key)\n",
    "print(f\"Most popular game{'s' if len(most_popular_game)>1 else ''}: {', '.join(most_popular_game)}\")"
   ]
  },
  {
   "cell_type": "markdown",
   "metadata": {},
   "source": [
    "# <span style=\"color:brown\"> Part 2 -  Data loading and analysis  </span>\n",
    "\n",
    "## Exercise I - Alice what do you have to say?\n",
    "\n",
    "**8**: Load the Alice text file into a variable called Alice. <br>\n",
    "\n",
    "*Note: Use a relative filepath in relation to the location of your notebook.*"
   ]
  },
  {
   "cell_type": "code",
   "execution_count": 478,
   "metadata": {},
   "outputs": [],
   "source": [
    "# Lets import the text file alice.txt\n",
    "with open(\"alice.txt\", \"r\") as f:\n",
    "    text = f.read()"
   ]
  },
  {
   "cell_type": "markdown",
   "metadata": {},
   "source": [
    "**9**: Create a list in which each element is a word from the file *Alice*. Store that list in a variable called *wAlice*. <br>\n",
    "\n",
    "*Note: You will need to do some text parsing here. In particular to split the sentences into words. It is also a good practice to normalize words so that words \"Hello\" and \"hello\" become identical, by making all letters lower case. <br>*\n",
    "\n",
    "*Tip: check the following links for a discussion on regular expressions. Also consult the methods available for string manipulation.*\n",
    "\n",
    "https://docs.python.org/3/library/re.html\n",
    "\n",
    "https://stackoverflow.com/questions/1276764/stripping-everything-but-alphanumeric-chars-from-a-string-in-python"
   ]
  },
  {
   "cell_type": "code",
   "execution_count": 497,
   "metadata": {},
   "outputs": [],
   "source": [
    "# Lets remove all the punctuation\n",
    "punctuation = [\"'\", '\"', \",\", \".\", \"!\", \"?\", \":\", \";\", \"(\", \")\", \"<\", \">\" ]\n",
    "for p in punctuation:\n",
    "    text = text.replace(p, \"\")\n",
    "text = text.lower()\n",
    "\n",
    "wAlice = [word for word in text.split()]"
   ]
  },
  {
   "cell_type": "markdown",
   "metadata": {},
   "source": [
    "##### Using the list *wAlice* answer the following questions:<br>\n",
    "**10**: How many words are in the file Alice.txt? <br>"
   ]
  },
  {
   "cell_type": "code",
   "execution_count": 498,
   "metadata": {},
   "outputs": [
    {
     "name": "stdout",
     "output_type": "stream",
     "text": [
      "Number of words in Alice in Wonderland: 57\n"
     ]
    }
   ],
   "source": [
    "print(\"Number of words in Alice in Wonderland:\", len(wAlice))"
   ]
  },
  {
   "cell_type": "markdown",
   "metadata": {},
   "source": [
    "**11**: What is the longest and smallest word in the text file?\n",
    "\n",
    "*Note: Length in this case is measured in terms of the number of characters.*"
   ]
  },
  {
   "cell_type": "code",
   "execution_count": 499,
   "metadata": {},
   "outputs": [
    {
     "name": "stdout",
     "output_type": "stream",
     "text": [
      "Shortest word in Alice in Wonderland: a with 1 letter\n",
      "Longest word in Alice in Wonderland: conversations with 13 letters\n"
     ]
    }
   ],
   "source": [
    "print('Shortest word in Alice in Wonderland:', min(wAlice, key=len), 'with', len(min(wAlice, key=len)), f'letter{\"s\" if len(min(wAlice, key=len))>1 else \"\"}')\n",
    "print('Longest word in Alice in Wonderland:', max(wAlice, key=len), 'with', len(max(wAlice, key=len)), f'letter{\"s\" if len(max(wAlice, key=len))>1 else \"\"}')"
   ]
  },
  {
   "cell_type": "markdown",
   "metadata": {},
   "source": [
    "**12**: Delete all the repeated words from *wAlice*. "
   ]
  },
  {
   "cell_type": "code",
   "execution_count": 500,
   "metadata": {},
   "outputs": [
    {
     "name": "stdout",
     "output_type": "stream",
     "text": [
      "['nothing', 'is', 'sitting', 'very', 'having', 'reading', 'and', 'tired', 'the', 'once', 'what', 'by', 'twice', 'conversations', 'get', 'do', 'without', 'a', 'into', 'thought', 'she', 'had', 'but', 'bank', 'peeped', 'or', 'book', 'it', 'in', 'sister', 'of', 'to', 'alice', 'no', 'beginning', 'on', 'use', 'pictures', 'was', 'conversation', 'her']\n"
     ]
    }
   ],
   "source": [
    "# Remove duplicates\n",
    "wAlice = list(set(wAlice))\n",
    "print(wAlice)"
   ]
  },
  {
   "cell_type": "markdown",
   "metadata": {},
   "source": [
    "**12.1**:How many different words does the text contain?"
   ]
  },
  {
   "cell_type": "code",
   "execution_count": 501,
   "metadata": {},
   "outputs": [
    {
     "name": "stdout",
     "output_type": "stream",
     "text": [
      "Number of unique words in Alice in Wonderland: 41\n"
     ]
    }
   ],
   "source": [
    "print(\"Number of unique words in Alice in Wonderland:\", len(wAlice))"
   ]
  },
  {
   "cell_type": "markdown",
   "metadata": {},
   "source": [
    "## Exercise II - of Countries I Love\n",
    "\n",
    "Consider the list countries in the cell below. <br>\n",
    "It consists of a list of the 3-digit ISO codes of a set of countries of interest."
   ]
  },
  {
   "cell_type": "code",
   "execution_count": 8,
   "metadata": {},
   "outputs": [],
   "source": [
    "countries = [\n",
    "\n",
    "('PRT','Portugal','Europe'),\n",
    "('ISL','Israel','Asia'),\n",
    "('COL','Colombia','South America'),\n",
    "('NEV','Nevada','North America'),\n",
    "('JPN','Japan','Asia'),\n",
    "('RUS','Russia','well... which part?'),\n",
    "('DEN','Denmark','Europe'),\n",
    "('NOR','Norway','Europe')\n",
    "    \n",
    "]"
   ]
  },
  {
   "cell_type": "markdown",
   "metadata": {},
   "source": [
    "**Now consider the file *cdata.csv* that you should download.** <br>\n",
    "\n",
    "The file contains several information about countries, and is organized as follows:\n",
    "1. Column 1 is the 3-digit **ISO Code**\n",
    "2. Column 2 is the **Full Name** of the country\n",
    "3. Column 3 is the **Continent** of the country\n",
    "4. Column 4 is the **Population Size** in 2010\n",
    "5. Column 5 is the **GDP per capita** in 2010"
   ]
  },
  {
   "cell_type": "markdown",
   "metadata": {},
   "source": [
    "**13**: Using the Library CSV from Python STL, load the file *cdata.csv* into an object called *raw*. "
   ]
  },
  {
   "cell_type": "code",
   "execution_count": 30,
   "metadata": {},
   "outputs": [],
   "source": [
    "# Use the library CSV to read cdata.csv\n",
    "import csv\n",
    "with open('cdata.csv', newline='') as csvfile:\n",
    "    reader = csv.reader(csvfile, delimiter=',')\n",
    "    data = [row for row in reader]"
   ]
  },
  {
   "cell_type": "code",
   "execution_count": 35,
   "metadata": {},
   "outputs": [
    {
     "data": {
      "text/plain": [
       "[['ago', 'Angola', 'Africa', '23.369131088256836', '5988.534997149481'],\n",
       " ['bdi', 'Burundi', 'Africa', '8.766929626464844', '731.4232803265862'],\n",
       " ['ben', 'Benin', 'Africa', '9.199258804321289', '1919.9969479963038'],\n",
       " ['bfa', 'Burkina Faso', 'Africa', '15.605216979980469', '1327.2165314775982'],\n",
       " ['bwa', 'Botswana', 'Africa', '2.0148661136627197', '12256.14159052444'],\n",
       " ['caf',\n",
       "  'Central African Republic',\n",
       "  'Africa',\n",
       "  '4.4485249519348145',\n",
       "  '865.4421867263901'],\n",
       " ['cmr', 'Cameroon', 'Africa', '19.970495223999023', '2684.972890247272'],\n",
       " ['cod',\n",
       "  'Democratic Republic of the Congo',\n",
       "  'Africa',\n",
       "  '64.52326202392578',\n",
       "  '634.9713963013496'],\n",
       " ['cog',\n",
       "  'Republic of the Congo',\n",
       "  'Africa',\n",
       "  '4.386693000793457',\n",
       "  '4979.990496069269'],\n",
       " ['com', 'Comoros', 'Africa', '0.6896920204162598', '2292.997969425929'],\n",
       " ['cpv', 'Cape Verde', 'Africa', '0.5023840069770813', '5644.821253339075'],\n",
       " ['dji', 'Djibouti', 'Africa', '0.8511459827423096', '2124.4420625972525'],\n",
       " ['dza', 'Algeria', 'Africa', '36.117637634277344', '12590.224223813591'],\n",
       " ['egy', 'Egypt', 'Africa', '84.10760498046875', '9148.839753298033'],\n",
       " ['eth', 'Ethiopia', 'Africa', '87.70266723632812', '1100.1831875876223'],\n",
       " ['gab', 'Gabon', 'Africa', '1.6402100324630737', '11961.168226448879'],\n",
       " ['gha', 'Ghana', 'Africa', '24.512104034423828', '3931.2918319728856'],\n",
       " ['gin', 'Guinea', 'Africa', '10.794170379638672', '1742.7346742167783'],\n",
       " ['gmb', 'Gambia', 'Africa', '1.692149043083191', '2681.8586168502143'],\n",
       " ['gnb',\n",
       "  'Guinea-Bissau',\n",
       "  'Africa',\n",
       "  '1.5558799505233765',\n",
       "  '1387.2497310879905'],\n",
       " ['gnq',\n",
       "  'Equatorial Guinea',\n",
       "  'Africa',\n",
       "  '0.9511039853096008',\n",
       "  '31416.887137501908'],\n",
       " ['ken', 'Kenya', 'Africa', '41.35015106201172', '2484.0349094725366'],\n",
       " ['lbr', 'Liberia', 'Africa', '3.948124885559082', '786.6702306741524'],\n",
       " ['lso', 'Lesotho', 'Africa', '2.040550947189331', '2432.7976546880823'],\n",
       " ['mar', 'Morocco', 'Africa', '32.409637451171875', '6421.937677907418'],\n",
       " ['mdg', 'Madagascar', 'Africa', '21.151639938354492', '1459.9156124535612'],\n",
       " ['mli', 'Mali', 'Africa', '15.075084686279297', '1873.2809618195865'],\n",
       " ['moz', 'Mozambique', 'Africa', '24.221405029296875', '969.2307622526259'],\n",
       " ['mrt', 'Mauritania', 'Africa', '3.6095430850982666', '3082.647028528842'],\n",
       " ['mus', 'Mauritius', 'Africa', '1.2479549646377563', '15178.325920597827'],\n",
       " ['mwi', 'Malawi', 'Africa', '15.167095184326172', '972.0456815116237'],\n",
       " ['nam', 'Namibia', 'Africa', '2.1731700897216797', '7689.171239820006'],\n",
       " ['ner', 'Niger', 'Africa', '16.42557716369629', '845.8693682212395'],\n",
       " ['nga', 'Nigeria', 'Africa', '158.57826232910156', '5186.304307542348'],\n",
       " ['rwa', 'Rwanda', 'Africa', '10.246842384338379', '1379.6993252327009'],\n",
       " ['sdn', 'Sudan', 'Africa', '34.385963439941406', '3608.7856176907358'],\n",
       " ['sen', 'Senegal', 'Africa', '12.916229248046875', '2741.121456198507'],\n",
       " ['sle', 'Sierra Leone', 'Africa', '6.4587202072143555', '1161.8796942144647'],\n",
       " ['swz', 'Swaziland', 'Africa', '1.2028429508209229', '7042.524359035093'],\n",
       " ['syc', 'Seychelles', 'Africa', '0.0914049968123436', '17960.353075613308'],\n",
       " ['tcd', 'Chad', 'Africa', '11.887202262878418', '1880.3748762799714'],\n",
       " ['tgo', 'Togo', 'Africa', '6.5029520988464355', '1222.8150529133295'],\n",
       " ['tun', 'Tunisia', 'Africa', '10.639930725097656', '10647.834980284626'],\n",
       " ['tza', 'Tanzania', 'Africa', '44.82893753051758', '1979.1718644815185'],\n",
       " ['uga', 'Uganda', 'Africa', '33.91513442993164', '1723.5943355766267'],\n",
       " ['zaf', 'South Africa', 'Africa', '51.58466339111328', '11388.640515995063'],\n",
       " ['zmb', 'Zambia', 'Africa', '13.850032806396484', '2870.8872656342314'],\n",
       " ['zwe', 'Zimbabwe', 'Africa', '14.08631706237793', '1479.0305839163732'],\n",
       " ['are',\n",
       "  'United Arab Emirates',\n",
       "  'Asia',\n",
       "  '8.270684242248535',\n",
       "  '59707.412565389604'],\n",
       " ['arm', 'Armenia', 'Asia', '2.8773109912872314', '8222.945234202914'],\n",
       " ['aze', 'Azerbaijan', 'Asia', '9.03245735168457', '12947.102198682365'],\n",
       " ['bgd', 'Bangladesh', 'Asia', '152.14910888671875', '2411.1020691099325'],\n",
       " ['bhr', 'Bahrain', 'Asia', '1.2408620119094849', '37045.81310919623'],\n",
       " ['brn', 'Brunei', 'Asia', '0.3886620104312897', '67320.89957245934'],\n",
       " ['btn', 'Bhutan', 'Asia', '0.7276409864425659', '7235.18974818538'],\n",
       " ['chn', 'China', 'Asia', '1359.755126953125', '9337.290772677254'],\n",
       " ['cyp', 'Cyprus', 'Asia', '0.829446017742157', '28046.373877741087'],\n",
       " ['geo', 'Georgia', 'Asia', '4.231660842895508', '7966.602756952667'],\n",
       " ['hkg', 'Hong Kong', 'Asia', '7.02522087097168', '41687.946418899235'],\n",
       " ['ind', 'India', 'Asia', '1230.980712890625', '4357.0597360582315'],\n",
       " ['irn', 'Iran', 'Asia', '74.56751251220703', '17328.457882894658'],\n",
       " ['irq', 'Iraq', 'Asia', '30.7627010345459', '9344.543768350652'],\n",
       " ['isr', 'Israel', 'Asia', '7.42595911026001', '28638.9037385305'],\n",
       " ['jor', 'Jordan', 'Asia', '7.182390213012695', '9351.387283068141'],\n",
       " ['jpn', 'Japan', 'Asia', '128.5518798828125', '36595.63364058582'],\n",
       " ['kaz', 'Kazakhstan', 'Asia', '16.398975372314453', '17908.83993251286'],\n",
       " ['kgz', 'Kyrgyzstan', 'Asia', '5.422337055206299', '3382.4639059259293'],\n",
       " ['khm', 'Cambodia', 'Asia', '14.30873966217041', '2330.127207632253'],\n",
       " ['kor', 'South Korea', 'Asia', '49.5528564453125', '31589.705161145695'],\n",
       " ['kwt', 'Kuwait', 'Asia', '2.9980831146240234', '67029.51680017101'],\n",
       " ['lao', 'Laos', 'Asia', '6.246273994445801', '4316.969858587265'],\n",
       " ['lbn', 'Lebanon', 'Asia', '4.337141036987305', '18025.24893894264'],\n",
       " ['lka', 'Sri Lanka', 'Asia', '20.198352813720703', '8390.429701766443'],\n",
       " ['mac', 'Macau', 'Asia', '0.536969006061554', '91982.39517540816'],\n",
       " ['mdv', 'Maldives', 'Asia', '0.36451101303100586', '12140.803390739566'],\n",
       " ['mmr', 'Burma', 'Asia', '50.1558952331543', '3422.241340266976'],\n",
       " ['mng', 'Mongolia', 'Asia', '2.7126500606536865', '7670.714034382584'],\n",
       " ['mys', 'Malaysia', 'Asia', '28.112289428710938', '17913.164410782432'],\n",
       " ['npl', 'Nepal', 'Asia', '27.023136138916016', '1996.1961554516242'],\n",
       " ['omn', 'Oman', 'Asia', '3.0414600372314453', '40472.674942509126'],\n",
       " ['pak', 'Pakistan', 'Asia', '170.5601806640625', '4171.416562353057'],\n",
       " ['phl', 'Philippines', 'Asia', '93.72662353515625', '5391.233965240031'],\n",
       " ['qat', 'Qatar', 'Asia', '1.7796759605407715', '123128.40152283433'],\n",
       " ['sau', 'Saudi Arabia', 'Asia', '27.425676345825195', '42331.65885721999'],\n",
       " ['sgp', 'Singapore', 'Asia', '5.074252128601074', '58618.43503468222'],\n",
       " ['syr', 'Syria', 'Asia', '21.01883316040039', '5700.329438992399'],\n",
       " ['tha', 'Thailand', 'Asia', '67.20880889892578', '12496.244186726299'],\n",
       " ['tjk', 'Tajikistan', 'Asia', '7.641630172729492', '2784.5145587763627'],\n",
       " ['tkm', 'Turkmenistan', 'Asia', '5.087210178375244', '16061.429412691556'],\n",
       " ['tur', 'Turkey', 'Asia', '72.32691192626953', '17930.678781392427'],\n",
       " ['twn', 'Taiwan', 'Asia', '23.140947341918945', '37188.89452901009'],\n",
       " ['uzb', 'Uzbekistan', 'Asia', '28.606294631958008', '6574.51672506692'],\n",
       " ['vnm', 'Vietnam', 'Asia', '88.4725112915039', '4428.42140209062'],\n",
       " ['yem', 'Yemen', 'Asia', '23.606779098510742', '4553.557258443674'],\n",
       " ['alb', 'Albania', 'Europe', '2.9405250549316406', '9544.73991912729'],\n",
       " ['aut', 'Austria', 'Europe', '8.40994930267334', '40489.80635849457'],\n",
       " ['bel', 'Belgium', 'Europe', '10.938738822937012', '38177.94724875522'],\n",
       " ['bgr', 'Bulgaria', 'Europe', '7.404590129852295', '14906.784964031736'],\n",
       " ['bih',\n",
       "  'Bosnia and Herzegovina',\n",
       "  'Europe',\n",
       "  '3.7220840454101562',\n",
       "  '9049.364732987471'],\n",
       " ['blr', 'Belarus', 'Europe', '9.473071098327637', '16457.02937904922'],\n",
       " ['che', 'Switzerland', 'Europe', '7.831971168518066', '55688.020214268225'],\n",
       " ['cze',\n",
       "  'Czech Republic',\n",
       "  'Europe',\n",
       "  '10.536286354064941',\n",
       "  '26129.56935189834'],\n",
       " ['deu', 'Germany', 'Europe', '80.89478302001953', '40627.23054942445'],\n",
       " ['dnk', 'Denmark', 'Europe', '5.554843902587891', '43416.22338615916'],\n",
       " ['esp', 'Spain', 'Europe', '46.788631439208984', '31610.980157042286'],\n",
       " ['est', 'Estonia', 'Europe', '1.3321019411087036', '20265.572596704937'],\n",
       " ['fin', 'Finland', 'Europe', '5.365781784057617', '38394.06158150017'],\n",
       " ['fra', 'France', 'Europe', '65.14578247070312', '35786.16161450548'],\n",
       " ['gbr', 'United Kingdom', 'Europe', '63.30684280395508', '34810.28120173958'],\n",
       " ['grc', 'Greece', 'Europe', '11.446004867553711', '25815.80076797162'],\n",
       " ['hrv', 'Croatia', 'Europe', '4.328153133392334', '19305.008088868373'],\n",
       " ['hun', 'Hungary', 'Europe', '9.927840232849121', '20477.79856764035'],\n",
       " ['irl', 'Ireland', 'Europe', '4.626927852630615', '47823.50815113634'],\n",
       " ['isl', 'Iceland', 'Europe', '0.3203279972076416', '37729.01607603124'],\n",
       " ['ita', 'Italy', 'Europe', '59.72980880737305', '34727.67268834705'],\n",
       " ['ltu', 'Lithuania', 'Europe', '3.123802900314331', '18475.371145517096'],\n",
       " ['lux', 'Luxembourg', 'Europe', '0.5078889727592468', '57882.81020537233'],\n",
       " ['lva', 'Latvia', 'Europe', '2.1188480854034424', '16943.688322829523'],\n",
       " ['mda', 'Moldova', 'Europe', '4.0844807624816895', '4173.634753274572'],\n",
       " ['mkd', 'Macedonia', 'Europe', '2.0707390308380127', '11265.643175619889'],\n",
       " ['mlt', 'Malta', 'Europe', '0.41611000895500183', '22983.44992639125'],\n",
       " ['mne', 'Montenegro', 'Europe', '0.6242849826812744', '14960.94855221103'],\n",
       " ['nld', 'Netherlands', 'Europe', '16.68291664123535', '44004.146024770846'],\n",
       " ['nor', 'Norway', 'Europe', '4.885878086090088', '73262.68174170727'],\n",
       " ['pol', 'Poland', 'Europe', '38.323402404785156', '21006.027309294514'],\n",
       " ['prt', 'Portugal', 'Europe', '10.652320861816406', '25788.2739652247'],\n",
       " ['rou', 'Romania', 'Europe', '20.44034767150879', '16775.609043478133'],\n",
       " ['rus', 'Russia', 'Asia', '143.15386962890625', '21754.067899615977'],\n",
       " ['srb', 'Serbia', 'Europe', '7.291436195373535', '12453.482551916944'],\n",
       " ['svk', 'Slovakia', 'Europe', '5.404294013977051', '23061.12099058148'],\n",
       " ['svn', 'Slovenia', 'Europe', '2.045167922973633', '25831.33128718208'],\n",
       " ['swe', 'Sweden', 'Europe', '9.390168190002441', '40421.906436576974'],\n",
       " ['ukr', 'Ukraine', 'Europe', '45.79249954223633', '8713.259627419637'],\n",
       " ['abw', 'Aruba', 'NorthAmerica', '0.10166899859905243', '37059.34143869512'],\n",
       " ['aia',\n",
       "  'Anguilla',\n",
       "  'NorthAmerica',\n",
       "  '0.013768999837338924',\n",
       "  '21098.057152999143'],\n",
       " ['atg',\n",
       "  'Antigua and Barbuda',\n",
       "  'NorthAmerica',\n",
       "  '0.09466099739074707',\n",
       "  '17162.16102781353'],\n",
       " ['bhs',\n",
       "  'Bahamas',\n",
       "  'NorthAmerica',\n",
       "  '0.36083200573921204',\n",
       "  '29504.581346144332'],\n",
       " ['blz', 'Belize', 'NorthAmerica', '0.3216080069541931', '7145.952547655193'],\n",
       " ['bmu',\n",
       "  'Bermuda',\n",
       "  'NorthAmerica',\n",
       "  '0.06395599991083145',\n",
       "  '51447.147481910884'],\n",
       " ['brb',\n",
       "  'Barbados',\n",
       "  'NorthAmerica',\n",
       "  '0.27956900000572205',\n",
       "  '13995.612896540895'],\n",
       " ['can', 'Canada', 'NorthAmerica', '34.16866683959961', '40269.03526728651'],\n",
       " ['cri',\n",
       "  'Costa Rica',\n",
       "  'NorthAmerica',\n",
       "  '4.5452799797058105',\n",
       "  '12106.99191566891'],\n",
       " ['cuw',\n",
       "  'CuraÃ§ao',\n",
       "  'NorthAmerica',\n",
       "  '0.14760799705982208',\n",
       "  '24337.816177887613'],\n",
       " ['cym',\n",
       "  'Cayman Islands',\n",
       "  'NorthAmerica',\n",
       "  '0.05550700053572655',\n",
       "  '36670.678481483985'],\n",
       " ['dma',\n",
       "  'Dominica',\n",
       "  'NorthAmerica',\n",
       "  '0.07143999636173248',\n",
       "  '9101.993729581038'],\n",
       " ['dom',\n",
       "  'Dominican Republic',\n",
       "  'NorthAmerica',\n",
       "  '9.897985458374023',\n",
       "  '11500.13134401987'],\n",
       " ['grd', 'Grenada', 'NorthAmerica', '0.1046769991517067', '9791.291133092265'],\n",
       " ['gtm',\n",
       "  'Guatemala',\n",
       "  'NorthAmerica',\n",
       "  '14.630416870117188',\n",
       "  '6359.262684615136'],\n",
       " ['hnd',\n",
       "  'Honduras',\n",
       "  'NorthAmerica',\n",
       "  '8.194778442382812',\n",
       "  '3789.9102248753848'],\n",
       " ['hti', 'Haiti', 'NorthAmerica', '9.999616622924805', '1650.2697128700804'],\n",
       " ['jam', 'Jamaica', 'NorthAmerica', '2.8172099590301514', '6675.176956450172'],\n",
       " ['kna',\n",
       "  'Saint Kitts and Nevis',\n",
       "  'NorthAmerica',\n",
       "  '0.05144499987363815',\n",
       "  '17837.349758162076'],\n",
       " ['lca',\n",
       "  'Saint Lucia',\n",
       "  'NorthAmerica',\n",
       "  '0.17258000373840332',\n",
       "  '9178.266990673521'],\n",
       " ['mex', 'Mexico', 'NorthAmerica', '117.31893920898438', '14507.011923865603'],\n",
       " ['msr',\n",
       "  'Montserrat',\n",
       "  'NorthAmerica',\n",
       "  '0.00494399992749095',\n",
       "  '15385.002991478228'],\n",
       " ['nic',\n",
       "  'Nicaragua',\n",
       "  'NorthAmerica',\n",
       "  '5.737722873687744',\n",
       "  '3992.7619078961748'],\n",
       " ['pan', 'Panama', 'NorthAmerica', '3.6432220935821533', '15055.237591848218'],\n",
       " ['slv',\n",
       "  'El Salvador',\n",
       "  'NorthAmerica',\n",
       "  '6.164626121520996',\n",
       "  '6096.958357099287'],\n",
       " ['tca',\n",
       "  'Turks and Caicos Islands',\n",
       "  'NorthAmerica',\n",
       "  '0.030993999913334846',\n",
       "  '7230.966074605446'],\n",
       " ['tto',\n",
       "  'Trinidad and Tobago',\n",
       "  'NorthAmerica',\n",
       "  '1.3280999660491943',\n",
       "  '27510.236190041924'],\n",
       " ['usa',\n",
       "  'United States',\n",
       "  'NorthAmerica',\n",
       "  '308.6413879394531',\n",
       "  '49500.62628346238'],\n",
       " ['vct',\n",
       "  'Saint Vincent and the Grenadines',\n",
       "  'NorthAmerica',\n",
       "  '0.10931500047445297',\n",
       "  '8095.21923068351'],\n",
       " ['vgb',\n",
       "  'British Virgin Islands',\n",
       "  'NorthAmerica',\n",
       "  '0.027224000543355942',\n",
       "  '21183.279165646647'],\n",
       " ['aus', 'Australia', 'Oceania', '22.12006378173828', '44854.90004866657'],\n",
       " ['fji', 'Fiji', 'Oceania', '0.8599500060081482', '6902.0687720944225'],\n",
       " ['nzl', 'New Zealand', 'Oceania', '4.370061874389648', '30867.05437525178'],\n",
       " ['arg',\n",
       "  'Argentina',\n",
       "  'SouthAmerica',\n",
       "  '41.2238883972168',\n",
       "  '15841.658208158999'],\n",
       " ['bol', 'Bolivia', 'SouthAmerica', '9.918242454528809', '4806.608983377068'],\n",
       " ['bra', 'Brazil', 'SouthAmerica', '196.7962646484375', '13541.462561602328'],\n",
       " ['chl', 'Chile', 'SouthAmerica', '16.99335479736328', '18092.94007371081']]"
      ]
     },
     "execution_count": 35,
     "metadata": {},
     "output_type": "execute_result"
    }
   ],
   "source": [
    "data[1:]"
   ]
  },
  {
   "cell_type": "code",
   "execution_count": 40,
   "metadata": {},
   "outputs": [
    {
     "name": "stdout",
     "output_type": "stream",
     "text": [
      "{'ago': ('Angola', 'Africa', '23.369131088256836', '5988.534997149481'), 'bdi': ('Burundi', 'Africa', '8.766929626464844', '731.4232803265862'), 'ben': ('Benin', 'Africa', '9.199258804321289', '1919.9969479963038'), 'bfa': ('Burkina Faso', 'Africa', '15.605216979980469', '1327.2165314775982'), 'bwa': ('Botswana', 'Africa', '2.0148661136627197', '12256.14159052444'), 'caf': ('Central African Republic', 'Africa', '4.4485249519348145', '865.4421867263901'), 'cmr': ('Cameroon', 'Africa', '19.970495223999023', '2684.972890247272'), 'cod': ('Democratic Republic of the Congo', 'Africa', '64.52326202392578', '634.9713963013496'), 'cog': ('Republic of the Congo', 'Africa', '4.386693000793457', '4979.990496069269'), 'com': ('Comoros', 'Africa', '0.6896920204162598', '2292.997969425929'), 'cpv': ('Cape Verde', 'Africa', '0.5023840069770813', '5644.821253339075'), 'dji': ('Djibouti', 'Africa', '0.8511459827423096', '2124.4420625972525'), 'dza': ('Algeria', 'Africa', '36.117637634277344', '12590.224223813591'), 'egy': ('Egypt', 'Africa', '84.10760498046875', '9148.839753298033'), 'eth': ('Ethiopia', 'Africa', '87.70266723632812', '1100.1831875876223'), 'gab': ('Gabon', 'Africa', '1.6402100324630737', '11961.168226448879'), 'gha': ('Ghana', 'Africa', '24.512104034423828', '3931.2918319728856'), 'gin': ('Guinea', 'Africa', '10.794170379638672', '1742.7346742167783'), 'gmb': ('Gambia', 'Africa', '1.692149043083191', '2681.8586168502143'), 'gnb': ('Guinea-Bissau', 'Africa', '1.5558799505233765', '1387.2497310879905'), 'gnq': ('Equatorial Guinea', 'Africa', '0.9511039853096008', '31416.887137501908'), 'ken': ('Kenya', 'Africa', '41.35015106201172', '2484.0349094725366'), 'lbr': ('Liberia', 'Africa', '3.948124885559082', '786.6702306741524'), 'lso': ('Lesotho', 'Africa', '2.040550947189331', '2432.7976546880823'), 'mar': ('Morocco', 'Africa', '32.409637451171875', '6421.937677907418'), 'mdg': ('Madagascar', 'Africa', '21.151639938354492', '1459.9156124535612'), 'mli': ('Mali', 'Africa', '15.075084686279297', '1873.2809618195865'), 'moz': ('Mozambique', 'Africa', '24.221405029296875', '969.2307622526259'), 'mrt': ('Mauritania', 'Africa', '3.6095430850982666', '3082.647028528842'), 'mus': ('Mauritius', 'Africa', '1.2479549646377563', '15178.325920597827'), 'mwi': ('Malawi', 'Africa', '15.167095184326172', '972.0456815116237'), 'nam': ('Namibia', 'Africa', '2.1731700897216797', '7689.171239820006'), 'ner': ('Niger', 'Africa', '16.42557716369629', '845.8693682212395'), 'nga': ('Nigeria', 'Africa', '158.57826232910156', '5186.304307542348'), 'rwa': ('Rwanda', 'Africa', '10.246842384338379', '1379.6993252327009'), 'sdn': ('Sudan', 'Africa', '34.385963439941406', '3608.7856176907358'), 'sen': ('Senegal', 'Africa', '12.916229248046875', '2741.121456198507'), 'sle': ('Sierra Leone', 'Africa', '6.4587202072143555', '1161.8796942144647'), 'swz': ('Swaziland', 'Africa', '1.2028429508209229', '7042.524359035093'), 'syc': ('Seychelles', 'Africa', '0.0914049968123436', '17960.353075613308'), 'tcd': ('Chad', 'Africa', '11.887202262878418', '1880.3748762799714'), 'tgo': ('Togo', 'Africa', '6.5029520988464355', '1222.8150529133295'), 'tun': ('Tunisia', 'Africa', '10.639930725097656', '10647.834980284626'), 'tza': ('Tanzania', 'Africa', '44.82893753051758', '1979.1718644815185'), 'uga': ('Uganda', 'Africa', '33.91513442993164', '1723.5943355766267'), 'zaf': ('South Africa', 'Africa', '51.58466339111328', '11388.640515995063'), 'zmb': ('Zambia', 'Africa', '13.850032806396484', '2870.8872656342314'), 'zwe': ('Zimbabwe', 'Africa', '14.08631706237793', '1479.0305839163732'), 'are': ('United Arab Emirates', 'Asia', '8.270684242248535', '59707.412565389604'), 'arm': ('Armenia', 'Asia', '2.8773109912872314', '8222.945234202914'), 'aze': ('Azerbaijan', 'Asia', '9.03245735168457', '12947.102198682365'), 'bgd': ('Bangladesh', 'Asia', '152.14910888671875', '2411.1020691099325'), 'bhr': ('Bahrain', 'Asia', '1.2408620119094849', '37045.81310919623'), 'brn': ('Brunei', 'Asia', '0.3886620104312897', '67320.89957245934'), 'btn': ('Bhutan', 'Asia', '0.7276409864425659', '7235.18974818538'), 'chn': ('China', 'Asia', '1359.755126953125', '9337.290772677254'), 'cyp': ('Cyprus', 'Asia', '0.829446017742157', '28046.373877741087'), 'geo': ('Georgia', 'Asia', '4.231660842895508', '7966.602756952667'), 'hkg': ('Hong Kong', 'Asia', '7.02522087097168', '41687.946418899235'), 'ind': ('India', 'Asia', '1230.980712890625', '4357.0597360582315'), 'irn': ('Iran', 'Asia', '74.56751251220703', '17328.457882894658'), 'irq': ('Iraq', 'Asia', '30.7627010345459', '9344.543768350652'), 'isr': ('Israel', 'Asia', '7.42595911026001', '28638.9037385305'), 'jor': ('Jordan', 'Asia', '7.182390213012695', '9351.387283068141'), 'jpn': ('Japan', 'Asia', '128.5518798828125', '36595.63364058582'), 'kaz': ('Kazakhstan', 'Asia', '16.398975372314453', '17908.83993251286'), 'kgz': ('Kyrgyzstan', 'Asia', '5.422337055206299', '3382.4639059259293'), 'khm': ('Cambodia', 'Asia', '14.30873966217041', '2330.127207632253'), 'kor': ('South Korea', 'Asia', '49.5528564453125', '31589.705161145695'), 'kwt': ('Kuwait', 'Asia', '2.9980831146240234', '67029.51680017101'), 'lao': ('Laos', 'Asia', '6.246273994445801', '4316.969858587265'), 'lbn': ('Lebanon', 'Asia', '4.337141036987305', '18025.24893894264'), 'lka': ('Sri Lanka', 'Asia', '20.198352813720703', '8390.429701766443'), 'mac': ('Macau', 'Asia', '0.536969006061554', '91982.39517540816'), 'mdv': ('Maldives', 'Asia', '0.36451101303100586', '12140.803390739566'), 'mmr': ('Burma', 'Asia', '50.1558952331543', '3422.241340266976'), 'mng': ('Mongolia', 'Asia', '2.7126500606536865', '7670.714034382584'), 'mys': ('Malaysia', 'Asia', '28.112289428710938', '17913.164410782432'), 'npl': ('Nepal', 'Asia', '27.023136138916016', '1996.1961554516242'), 'omn': ('Oman', 'Asia', '3.0414600372314453', '40472.674942509126'), 'pak': ('Pakistan', 'Asia', '170.5601806640625', '4171.416562353057'), 'phl': ('Philippines', 'Asia', '93.72662353515625', '5391.233965240031'), 'qat': ('Qatar', 'Asia', '1.7796759605407715', '123128.40152283433'), 'sau': ('Saudi Arabia', 'Asia', '27.425676345825195', '42331.65885721999'), 'sgp': ('Singapore', 'Asia', '5.074252128601074', '58618.43503468222'), 'syr': ('Syria', 'Asia', '21.01883316040039', '5700.329438992399'), 'tha': ('Thailand', 'Asia', '67.20880889892578', '12496.244186726299'), 'tjk': ('Tajikistan', 'Asia', '7.641630172729492', '2784.5145587763627'), 'tkm': ('Turkmenistan', 'Asia', '5.087210178375244', '16061.429412691556'), 'tur': ('Turkey', 'Asia', '72.32691192626953', '17930.678781392427'), 'twn': ('Taiwan', 'Asia', '23.140947341918945', '37188.89452901009'), 'uzb': ('Uzbekistan', 'Asia', '28.606294631958008', '6574.51672506692'), 'vnm': ('Vietnam', 'Asia', '88.4725112915039', '4428.42140209062'), 'yem': ('Yemen', 'Asia', '23.606779098510742', '4553.557258443674'), 'alb': ('Albania', 'Europe', '2.9405250549316406', '9544.73991912729'), 'aut': ('Austria', 'Europe', '8.40994930267334', '40489.80635849457'), 'bel': ('Belgium', 'Europe', '10.938738822937012', '38177.94724875522'), 'bgr': ('Bulgaria', 'Europe', '7.404590129852295', '14906.784964031736'), 'bih': ('Bosnia and Herzegovina', 'Europe', '3.7220840454101562', '9049.364732987471'), 'blr': ('Belarus', 'Europe', '9.473071098327637', '16457.02937904922'), 'che': ('Switzerland', 'Europe', '7.831971168518066', '55688.020214268225'), 'cze': ('Czech Republic', 'Europe', '10.536286354064941', '26129.56935189834'), 'deu': ('Germany', 'Europe', '80.89478302001953', '40627.23054942445'), 'dnk': ('Denmark', 'Europe', '5.554843902587891', '43416.22338615916'), 'esp': ('Spain', 'Europe', '46.788631439208984', '31610.980157042286'), 'est': ('Estonia', 'Europe', '1.3321019411087036', '20265.572596704937'), 'fin': ('Finland', 'Europe', '5.365781784057617', '38394.06158150017'), 'fra': ('France', 'Europe', '65.14578247070312', '35786.16161450548'), 'gbr': ('United Kingdom', 'Europe', '63.30684280395508', '34810.28120173958'), 'grc': ('Greece', 'Europe', '11.446004867553711', '25815.80076797162'), 'hrv': ('Croatia', 'Europe', '4.328153133392334', '19305.008088868373'), 'hun': ('Hungary', 'Europe', '9.927840232849121', '20477.79856764035'), 'irl': ('Ireland', 'Europe', '4.626927852630615', '47823.50815113634'), 'isl': ('Iceland', 'Europe', '0.3203279972076416', '37729.01607603124'), 'ita': ('Italy', 'Europe', '59.72980880737305', '34727.67268834705'), 'ltu': ('Lithuania', 'Europe', '3.123802900314331', '18475.371145517096'), 'lux': ('Luxembourg', 'Europe', '0.5078889727592468', '57882.81020537233'), 'lva': ('Latvia', 'Europe', '2.1188480854034424', '16943.688322829523'), 'mda': ('Moldova', 'Europe', '4.0844807624816895', '4173.634753274572'), 'mkd': ('Macedonia', 'Europe', '2.0707390308380127', '11265.643175619889'), 'mlt': ('Malta', 'Europe', '0.41611000895500183', '22983.44992639125'), 'mne': ('Montenegro', 'Europe', '0.6242849826812744', '14960.94855221103'), 'nld': ('Netherlands', 'Europe', '16.68291664123535', '44004.146024770846'), 'nor': ('Norway', 'Europe', '4.885878086090088', '73262.68174170727'), 'pol': ('Poland', 'Europe', '38.323402404785156', '21006.027309294514'), 'prt': ('Portugal', 'Europe', '10.652320861816406', '25788.2739652247'), 'rou': ('Romania', 'Europe', '20.44034767150879', '16775.609043478133'), 'rus': ('Russia', 'Asia', '143.15386962890625', '21754.067899615977'), 'srb': ('Serbia', 'Europe', '7.291436195373535', '12453.482551916944'), 'svk': ('Slovakia', 'Europe', '5.404294013977051', '23061.12099058148'), 'svn': ('Slovenia', 'Europe', '2.045167922973633', '25831.33128718208'), 'swe': ('Sweden', 'Europe', '9.390168190002441', '40421.906436576974'), 'ukr': ('Ukraine', 'Europe', '45.79249954223633', '8713.259627419637'), 'abw': ('Aruba', 'NorthAmerica', '0.10166899859905243', '37059.34143869512'), 'aia': ('Anguilla', 'NorthAmerica', '0.013768999837338924', '21098.057152999143'), 'atg': ('Antigua and Barbuda', 'NorthAmerica', '0.09466099739074707', '17162.16102781353'), 'bhs': ('Bahamas', 'NorthAmerica', '0.36083200573921204', '29504.581346144332'), 'blz': ('Belize', 'NorthAmerica', '0.3216080069541931', '7145.952547655193'), 'bmu': ('Bermuda', 'NorthAmerica', '0.06395599991083145', '51447.147481910884'), 'brb': ('Barbados', 'NorthAmerica', '0.27956900000572205', '13995.612896540895'), 'can': ('Canada', 'NorthAmerica', '34.16866683959961', '40269.03526728651'), 'cri': ('Costa Rica', 'NorthAmerica', '4.5452799797058105', '12106.99191566891'), 'cuw': ('CuraÃ§ao', 'NorthAmerica', '0.14760799705982208', '24337.816177887613'), 'cym': ('Cayman Islands', 'NorthAmerica', '0.05550700053572655', '36670.678481483985'), 'dma': ('Dominica', 'NorthAmerica', '0.07143999636173248', '9101.993729581038'), 'dom': ('Dominican Republic', 'NorthAmerica', '9.897985458374023', '11500.13134401987'), 'grd': ('Grenada', 'NorthAmerica', '0.1046769991517067', '9791.291133092265'), 'gtm': ('Guatemala', 'NorthAmerica', '14.630416870117188', '6359.262684615136'), 'hnd': ('Honduras', 'NorthAmerica', '8.194778442382812', '3789.9102248753848'), 'hti': ('Haiti', 'NorthAmerica', '9.999616622924805', '1650.2697128700804'), 'jam': ('Jamaica', 'NorthAmerica', '2.8172099590301514', '6675.176956450172'), 'kna': ('Saint Kitts and Nevis', 'NorthAmerica', '0.05144499987363815', '17837.349758162076'), 'lca': ('Saint Lucia', 'NorthAmerica', '0.17258000373840332', '9178.266990673521'), 'mex': ('Mexico', 'NorthAmerica', '117.31893920898438', '14507.011923865603'), 'msr': ('Montserrat', 'NorthAmerica', '0.00494399992749095', '15385.002991478228'), 'nic': ('Nicaragua', 'NorthAmerica', '5.737722873687744', '3992.7619078961748'), 'pan': ('Panama', 'NorthAmerica', '3.6432220935821533', '15055.237591848218'), 'slv': ('El Salvador', 'NorthAmerica', '6.164626121520996', '6096.958357099287'), 'tca': ('Turks and Caicos Islands', 'NorthAmerica', '0.030993999913334846', '7230.966074605446'), 'tto': ('Trinidad and Tobago', 'NorthAmerica', '1.3280999660491943', '27510.236190041924'), 'usa': ('United States', 'NorthAmerica', '308.6413879394531', '49500.62628346238'), 'vct': ('Saint Vincent and the Grenadines', 'NorthAmerica', '0.10931500047445297', '8095.21923068351'), 'vgb': ('British Virgin Islands', 'NorthAmerica', '0.027224000543355942', '21183.279165646647'), 'aus': ('Australia', 'Oceania', '22.12006378173828', '44854.90004866657'), 'fji': ('Fiji', 'Oceania', '0.8599500060081482', '6902.0687720944225'), 'nzl': ('New Zealand', 'Oceania', '4.370061874389648', '30867.05437525178'), 'arg': ('Argentina', 'SouthAmerica', '41.2238883972168', '15841.658208158999'), 'bol': ('Bolivia', 'SouthAmerica', '9.918242454528809', '4806.608983377068'), 'bra': ('Brazil', 'SouthAmerica', '196.7962646484375', '13541.462561602328'), 'chl': ('Chile', 'SouthAmerica', '16.99335479736328', '18092.94007371081')}\n"
     ]
    }
   ],
   "source": [
    "# Slicing data to get the list without the keys\n",
    "cData = {}\n",
    "for country in data[1:]:\n",
    "    iso = country[0]\n",
    "    other_info = country[1:]\n",
    "    # Convert other_info to tuple\n",
    "    other_info = tuple(other_info)\n",
    "    # Add to the cData dictionary the tuple as values and the iso as key\n",
    "    cData[iso] = other_info\n",
    "print(cData)"
   ]
  },
  {
   "cell_type": "markdown",
   "metadata": {},
   "source": [
    "**13.1**: Create a dictionary called *cData* in which the key corresponds to the 3-digit ISO Code and the value is a tuple with the information contained in the 2nd to the 5th of column of the cdata file."
   ]
  },
  {
   "cell_type": "code",
   "execution_count": null,
   "metadata": {},
   "outputs": [],
   "source": []
  },
  {
   "cell_type": "markdown",
   "metadata": {},
   "source": [
    "**14**: Using *cData*, identify what is the most common Continent among the nations in the list *countries*."
   ]
  },
  {
   "cell_type": "code",
   "execution_count": null,
   "metadata": {},
   "outputs": [],
   "source": []
  },
  {
   "cell_type": "markdown",
   "metadata": {},
   "source": [
    "**15**: Using *cData*, identify what is the the most populated nation in the list *countries*."
   ]
  },
  {
   "cell_type": "code",
   "execution_count": null,
   "metadata": {},
   "outputs": [],
   "source": []
  },
  {
   "cell_type": "markdown",
   "metadata": {},
   "source": [
    "**16**: Compare the average GDP per capita of the nations in the list *countries* with the average GDP of the countries in cdata file. What can you conclude?"
   ]
  },
  {
   "cell_type": "code",
   "execution_count": null,
   "metadata": {},
   "outputs": [],
   "source": []
  },
  {
   "cell_type": "markdown",
   "metadata": {},
   "source": [
    "# <span style=\"color:brown\"> Part 3 - Functions hurt nobody </span>\n",
    "\n",
    "## Exercise I - I hate math\n",
    "\n",
    "##### Consider the following equation:\n",
    "\n",
    "\\begin{equation}\n",
    "    y = 6x^2 + 3x + 2\n",
    "\\end{equation}\n",
    "\n",
    "**17**: Write a function called *f* that takes one argument, x, and returns y according to the equation above. "
   ]
  },
  {
   "cell_type": "code",
   "execution_count": 17,
   "metadata": {},
   "outputs": [],
   "source": [
    "def func(x):\n",
    "    return 6*x**2 + 3*x + 2"
   ]
  },
  {
   "cell_type": "markdown",
   "metadata": {},
   "source": [
    "**17.1**: Call the function for x = 2 and print the answer."
   ]
  },
  {
   "cell_type": "code",
   "execution_count": 20,
   "metadata": {},
   "outputs": [
    {
     "name": "stdout",
     "output_type": "stream",
     "text": [
      "f(2)= 32\n"
     ]
    }
   ],
   "source": [
    "x = 2\n",
    "print(f'f({x})=',func(x))"
   ]
  },
  {
   "cell_type": "markdown",
   "metadata": {},
   "source": [
    "##### Consider the following sequence of numbers:\n",
    "\n",
    "\\begin{equation}\n",
    "    x_0 = 0; ~~~ ~~~ ~~~ ~~ ~~~ ~~~ ~~~ ~~~ ~~~ ~~~ ~~~ ~~ ~~~ ~~~ ~~~ ~~ ~~~ ~~~ ~~~ ~~ ~ ~~~ ~~~ ~~~ ~~ ~~~ ~~~ ~~~ ~~ ~~~ ~~~ ~~~ ~~ ~~~ ~~~ ~~~ ~~ \\\\\n",
    "    x_{n} = x_{n-1} - n; ~~~ \\textit{ if} ~~~ x_{n-1}-n > 0 ~~~ \\textit{ and is not already in the sequence}\\\\\n",
    "    x_{n} = x_{n-1} + n; ~~~ \\textit{ otherwise} ~~~ ~~~ ~~~ ~~~ ~~ ~~~ ~~~ ~~~ ~~~ ~~~ ~ ~~~ ~~~ ~~~ ~~~ ~~~ ~~~ ~ ~~~ ~~~ ~~~~ ~~~ ~~~ ~~~ ~ \\\\\n",
    "\\end{equation}\n",
    "\n",
    "**17.2**: Write a function that returns the nth digit of the above defined sequence. <br>\n",
    "\n",
    "*Note: the above sequence is also known as the Recamán's sequence, and it was invnted by Bernardo Recamán Santos (Bogotá, Colombia)*"
   ]
  },
  {
   "cell_type": "code",
   "execution_count": 29,
   "metadata": {},
   "outputs": [],
   "source": [
    "def sequence(k): \n",
    "    # Create a list of k+1 elements, with all elements set to 0 so that we can slice it and so that x_0 = 0\n",
    "    saved_states = [0 for i in range(k+1)]\n",
    "    # def_value is the default value of the sequence if the val is not in the saved states and is greater than 0\n",
    "    for n in range(1,k+1):\n",
    "        def_value = saved_states[n-1] - n\n",
    "        if def_value > 0 and def_value not in saved_states:\n",
    "            saved_states[n] = def_value\n",
    "        else:\n",
    "            saved_states[n] = saved_states[n-1] + n\n",
    "    return saved_states[n]"
   ]
  },
  {
   "cell_type": "markdown",
   "metadata": {},
   "source": [
    "**17.3** Write a function named isPrime that takes an integer as input and outputs True if the number is prime and False if the number if not prime."
   ]
  },
  {
   "cell_type": "code",
   "execution_count": 59,
   "metadata": {},
   "outputs": [],
   "source": [
    "def isPrime(a, return_divisors=False): \n",
    "    # Create a list of divisors\n",
    "    divisors = []\n",
    "    # Check if the input is an integer\n",
    "    if not isinstance(a, int): \n",
    "        return f'{a} is not an integer'\n",
    "    # Check if the input is greater than 1\n",
    "    if a < 2:\n",
    "        return f'{a} is not a prime number'\n",
    "    # Check if the input is divisible by any number between 2 and a-1\n",
    "    for i in range(2, a):\n",
    "        if a % i == 0:\n",
    "            divisors.append(i)\n",
    "    # If there are divisors, then the number is not prime\n",
    "    if len(divisors) > 0:\n",
    "        if return_divisors:\n",
    "            print(f'{a} is not a prime number')\n",
    "            return divisors\n",
    "        else:\n",
    "            return f'{a} is not a prime number'\n",
    "    # Else, the number is prime\n",
    "    else:\n",
    "        return f'{a} is a prime number'"
   ]
  },
  {
   "cell_type": "markdown",
   "metadata": {},
   "source": [
    "**17.4** Test your function against some examples to show that it works as expected."
   ]
  },
  {
   "cell_type": "code",
   "execution_count": 61,
   "metadata": {},
   "outputs": [
    {
     "name": "stdout",
     "output_type": "stream",
     "text": [
      "67 is a prime number\n",
      "78 is not a prime number\n",
      "44 is not a prime number\n",
      "78 is not a prime number\n",
      "43 is a prime number\n",
      "1 is not a prime number\n",
      "100 is not a prime number\n",
      "18 is not a prime number\n",
      "45 is not a prime number\n",
      "97 is a prime number\n"
     ]
    }
   ],
   "source": [
    "# Generate a list of 30 \n",
    "X = random.choices(range(101), k=10)\n",
    "for num in X:\n",
    "    print(isPrime(num))"
   ]
  },
  {
   "cell_type": "markdown",
   "metadata": {},
   "source": [
    "## Exercise II - Monty Hall Problem\n"
   ]
  },
  {
   "cell_type": "markdown",
   "metadata": {},
   "source": [
    "**18**: The Monty Hall Problem is a probability puzzle loosely based on the American television game show \"Let's Make a Deal\" and named after its original host, Monty Hall. The puzzle can be stated as follows\n",
    "\n",
    "> Suppose you're on a game show, and you're given the choice of three doors: Behind one door is a car; behind the others, goats. You pick a door, say No. 1, and the host, who knows what's behind the doors, opens another door, say No. 3, which has a goat. He then says to you, \"Do you want to pick door No. 2?\" Is it to your advantage to switch your choice? <br>\n",
    "+info: https://en.wikipedia.org/wiki/Monty_Hall_problem\n",
    "\n",
    "While intuitively your guess might be that the chances of winning the car is 1/3 independently of the choice to switch doors or not. Howewver, the odds of winning if you switch doors are 2/3 and greater than if you decide not to switch. While there are theoretical solutions to this problem that allow us to estimate the correct odds of winning in each scenario -- switching or not doors -- an alternative way to proof such outcome is through computer simulations. That is the goal of this exercise, to write the necessary components to simulate the Monty Hall problem and validate the theoretical results through simulations.\n",
    "\n",
    "In this exercise, start by implementing a function that simulates one instance of the Monty Hall problem. \n",
    "In that sense, write a function called MontyHall that accepts **one argument**:\n",
    "- A boolean (True/False, or 1/0) that specifies if the player switches doors or not (after the host has opened his door, which contains a goat).\n",
    "The function should return True if the player wins the car or False if not.\n",
    "\n",
    "Naturally, for the function to reproduce the contest it needs to consider and perform some actions, such as:\n",
    "- Set up the game, that is, create the necessary variables to store the information about three doors and what they have behind, as well as an indicator to track the choice of the player.\n",
    "- Given the initial choice of the player, simulate the opening of one of the two remaining doors that contains a goat.\n",
    "- Given the last two doors left, simulate if the player wants to switch or not his/her choice given their strategy (defined by the input boolean argument of the function).\n",
    "- Output the result, if the contestant correctly guesses which door hides the car or if not.\n",
    "\n",
    "The function MontyHall should simulate one instance of the contest given the choice of the player (to switch or not).\n",
    "\n",
    "**The goal is to understand, statistically, which action leads to the highest probability of winning.** <br>\n",
    "*Note: You should use the library random to solve this exercise.*"
   ]
  },
  {
   "cell_type": "code",
   "execution_count": 126,
   "metadata": {},
   "outputs": [],
   "source": [
    "import random\n",
    "\n",
    "def MontyHall(switch):\n",
    "    # Create three doors with a car behind one of them and goats behind the others\n",
    "    doors = [False, False, False]\n",
    "    car_position = random.randint(0, 2)\n",
    "    doors[car_position] = True\n",
    "\n",
    "    # Player's initial choice\n",
    "    player_choice = random.randint(0, 2)\n",
    "\n",
    "    # Host opens one of the remaining doors with a goat\n",
    "    remaining_doors = [i for i in range(3) if i != player_choice and not doors[i]]\n",
    "    host_opened = random.choice(remaining_doors)\n",
    "\n",
    "    # If the player switches\n",
    "    if switch:\n",
    "        # Player switches to the other unopened door\n",
    "        player_choice = next(i for i in range(3) if i != player_choice and i != host_opened)\n",
    "\n",
    "    # Determine if the player won\n",
    "    return doors[player_choice]"
   ]
  },
  {
   "cell_type": "markdown",
   "metadata": {},
   "source": [
    "**18.1** Now that you have a function that simulates an instance of the Monty Hall problem, implement an experiment where you repeat many times (thousands of times) for each of the two possible scenarios: player switching the door, and player not switcing the door. Keep track of the results and estimate the frequencies of wins for each scenario and discuss if the results are inline with the theoretical odds."
   ]
  },
  {
   "cell_type": "code",
   "execution_count": null,
   "metadata": {},
   "outputs": [],
   "source": [
    "num_simulations = 10000\n",
    "num_wins_switch = 0\n",
    "num_wins_no_switch = 0\n",
    "for i in range(num_simulations):\n",
    "    if MontyHall(switch=True):\n",
    "        num_wins_switch += 1\n",
    "    if MontyHall(switch=False):\n",
    "        num_wins_no_switch += 1\n",
    "\n",
    "print(f'Probability of winning if you switch: {num_wins_switch/num_simulations}')\n",
    "print(f'Probability of winning if you do not switch: {num_wins_no_switch/num_simulations}')"
   ]
  },
  {
   "cell_type": "markdown",
   "metadata": {},
   "source": [
    "## Exercise III\n",
    "\n",
    "**19**: Consider the list *A*, declared below. <br>\n",
    "Use the function map() to change the values of A by adding 1 to each value if it is even and subtracting 1 to it otherwise."
   ]
  },
  {
   "cell_type": "code",
   "execution_count": null,
   "metadata": {},
   "outputs": [],
   "source": [
    "A = [460,3347,3044,490,699,1258,1804,973,2223,3416,2879,1058,2915,2422,351,1543,1020,208,643,795,3337,2585,471,2623,1077]"
   ]
  },
  {
   "cell_type": "code",
   "execution_count": null,
   "metadata": {},
   "outputs": [],
   "source": []
  },
  {
   "cell_type": "markdown",
   "metadata": {},
   "source": [
    "**20**: Create a list B with the same size of A, where each element is True if the associated value in list A is greater than 700, else is False."
   ]
  },
  {
   "cell_type": "code",
   "execution_count": null,
   "metadata": {},
   "outputs": [],
   "source": []
  },
  {
   "cell_type": "markdown",
   "metadata": {},
   "source": [
    "**21**: Create a list L that contains the Logarithm of base 10 of each value in A. <br>\n",
    "\n",
    "*Note: You should use the module math to solve this exercise.*"
   ]
  },
  {
   "cell_type": "code",
   "execution_count": null,
   "metadata": {},
   "outputs": [],
   "source": []
  },
  {
   "cell_type": "markdown",
   "metadata": {},
   "source": [
    "**22**: How many numbers in A are greater than 1000? <br>\n",
    "\n",
    "*Note: You should use the function filter().*"
   ]
  },
  {
   "cell_type": "code",
   "execution_count": null,
   "metadata": {},
   "outputs": [],
   "source": []
  },
  {
   "cell_type": "markdown",
   "metadata": {},
   "source": [
    "**23:** Use the function isPrime, that you declared in 17.3, to identify which numbers from A are prime. Note that depending on your implementation of isPrime this task can take more or less time. Use filter to achieve this task."
   ]
  },
  {
   "cell_type": "code",
   "execution_count": null,
   "metadata": {},
   "outputs": [],
   "source": []
  },
  {
   "cell_type": "markdown",
   "metadata": {},
   "source": [
    "### Congratulations, it is done!"
   ]
  },
  {
   "cell_type": "markdown",
   "metadata": {},
   "source": [
    "![LEO_GOOD_JOB](https://www.idlememe.com/wp-content/uploads/2022/01/good-job-meme-idlememe-3.jpg)"
   ]
  },
  {
   "cell_type": "code",
   "execution_count": null,
   "metadata": {},
   "outputs": [],
   "source": []
  }
 ],
 "metadata": {
  "kernelspec": {
   "display_name": "Python 3 (ipykernel)",
   "language": "python",
   "name": "python3"
  },
  "language_info": {
   "codemirror_mode": {
    "name": "ipython",
    "version": 3
   },
   "file_extension": ".py",
   "mimetype": "text/x-python",
   "name": "python",
   "nbconvert_exporter": "python",
   "pygments_lexer": "ipython3",
   "version": "3.10.11"
  }
 },
 "nbformat": 4,
 "nbformat_minor": 2
}
